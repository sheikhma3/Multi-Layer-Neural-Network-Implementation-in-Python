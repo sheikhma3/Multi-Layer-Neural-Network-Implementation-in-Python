{
 "cells": [
  {
   "cell_type": "markdown",
   "metadata": {},
   "source": [
    "<h1><center>Deep Learning</center></h1>"
   ]
  },
  {
   "cell_type": "code",
   "execution_count": 1,
   "metadata": {
    "collapsed": true
   },
   "outputs": [],
   "source": [
    "# Include libraries which may use in implementation\n",
    "import numpy as np\n",
    "import random\n",
    "import sklearn.datasets as ds\n",
    "import matplotlib.pyplot as plt\n",
    "%matplotlib inline\n",
    "from sklearn.metrics import accuracy_score\n",
    "import pickle"
   ]
  },
  {
   "cell_type": "code",
   "execution_count": 2,
   "metadata": {
    "collapsed": true
   },
   "outputs": [],
   "source": [
    "# Create a Neural_Network class\n",
    "class Neural_Network(object):        \n",
    "    def __init__(self,inputSize = 2,hiddenLayer = 3, outputSize = 1,Activation_func='sigmoid' ):        \n",
    "        # size of layers\n",
    "        self.inputSize = inputSize\n",
    "        self.outputSize = outputSize \n",
    "        self.hiddenLayer = hiddenLayer\n",
    "        self.Activation_func=Activation_func\n",
    "        \n",
    "            \n",
    "            \n",
    "        \n",
    "        #weights\n",
    "        self.W1 = np.random.randn(self.hiddenLayer, self.inputSize+1) # randomly initialize W1 using random function of numpy\n",
    "        # size of the wieght will be (inputSize +1, hiddenlayer) that +1 is for bias    \n",
    "        self.W2 = np.random.randn(self.outputSize, self.hiddenLayer+1) # randomly initialize W2 using random function of numpy\n",
    "        # size of the wieght will be (hiddenlayer +1, outputSize) that +1 is for bias       \n",
    "\n",
    "    def execute_Activation_func(self,func_name,val,is_derivative=0):\n",
    "        if func_name=='sigmoid' and is_derivative==0:\n",
    "            return self.sigmoid(val)\n",
    "        if func_name=='sigmoid' and is_derivative==1:\n",
    "            return self.sigmoid_derivative(val)\n",
    "        #-----------------Tanh-----------------------------\n",
    "        if func_name=='tanh' and is_derivative==0:\n",
    "            return self.tanh(val)\n",
    "        if func_name=='tanh' and is_derivative==1:\n",
    "            return self.tanh_derivative(val)\n",
    "        #-----------------relu-----------------------------\n",
    "        if func_name=='relu' and is_derivative==0:\n",
    "            return self.sigmoid(val)\n",
    "        if func_name=='relu' and is_derivative==1:\n",
    "            return self.sigmoid_derivative(val)\n",
    " \n",
    "    def feedforward(self, X):\n",
    "        #forward propagation through our network\n",
    "        # dot product of X (input) and set of weights\n",
    "        # apply activation function (i.e. whatever function was passed in initialization)    \n",
    "        Z1=np.dot(self.W1,X)\n",
    "        A1=self.execute_Activation_func(self.Activation_func,Z1,0)\n",
    "        A1_bias=np.ones((A1.shape[0]+1,A1.shape[1]))\n",
    "        A1_bias[1:,:]=A1[:,:]\n",
    "        #print(A1_bias.shape)\n",
    "        Z2=np.dot(self.W2,A1_bias)\n",
    "        A2=self.sigmoid(Z2)\n",
    "        return A2,A1,A1_bias\n",
    "        \n",
    "     # return your answer with as a final output of the network\n",
    "\n",
    "    def sigmoid(self, s):\n",
    "        # activation function\n",
    "        return 1/(1+np.exp(-s)) # apply sigmoid function on s and return it's value\n",
    "\n",
    "    def sigmoid_derivative(self, s):\n",
    "        #derivative of sigmoid\n",
    "        return np.exp(-s)/((1+np.exp(-s))**2) # apply derivative of sigmoid on s and return it's value \n",
    "    \n",
    "    def tanh(self, s):\n",
    "        # activation function\n",
    "        return np.tanh(s) # apply tanh function on s and return it's value\n",
    "\n",
    "    def tanh_derivative(self, s):\n",
    "        #derivative of tanh\n",
    "        return 1.0 - np.tanh(s)**2 # apply derivative of tanh on s and return it's value\n",
    "    \n",
    "    def relu(self, s):\n",
    "        # activation function\n",
    "        return max(0,s) # apply relu function on s and return it's value\n",
    "\n",
    "    def relu_derivative(self, s):\n",
    "        #derivative of relu\n",
    "        return 1*(s > 0) # apply derivative of relu on s and return it's value\n",
    "\n",
    "    def backwardpropagate(self,X, Y, y_pred, lr,A1,A1_bias):\n",
    "        # backward propagate through the network\n",
    "        # compute error in output which is loss compute cross entropy loss function\n",
    "        # applying derivative of that applied activation function to the error\n",
    "        # adjust set of weights\n",
    "        dZ2=y_pred-Y\n",
    "        dW2=np.dot(dZ2,A1_bias.T)\n",
    "        #print(A1_bias.shape,'             ')\n",
    "        dZ1= np.dot(self.W2[:,1:].T,dZ2) * self.execute_Activation_func(self.Activation_func,A1,1)\n",
    "        dW1 =dZ1.dot(X.T)\n",
    "        self.W2 = self.W2 - (lr * dW2)\n",
    "        self.W1 = self.W1 - (lr * dW1)\n",
    "        \n",
    "    \n",
    "    def crossentropy(self, Y, Y_pred):\n",
    "        # compute error based on crossentropy loss \n",
    "        return -(Y * np.log(Y_pred)+(1-Y) * np.log(1-Y_pred)) #error\n",
    "\n",
    "    def train(self, trainX, trainY,epochs = 100, learningRate = 0.001, plot_err = True ,validationX = 0, validationY = 0):\n",
    "        # feed forward trainX and trainY and recivce predicted value\n",
    "        # backpropagation with trainX, trainY, predicted value and learning rate.\n",
    "        # if validationX and validationY are not null than show validation accuracy and error of the model by printing values.\n",
    "        # plot error of the model if plot_err is true\n",
    "        losslist = list()\n",
    "        for i in range (epochs):\n",
    "            loss_nest=list()\n",
    "            for i in range(trainX.shape[1]):\n",
    "                trainX_col= trainX[:,i,None]\n",
    "                trainY_label=trainY[0][i]\n",
    "                Y_pred,A1,A1_bias = self.feedforward(trainX_col)\n",
    "                loss_nest.append(self.crossentropy(trainY_label,Y_pred))\n",
    "                #print(trainX.shape,'  ' ,trainY.shape,'  ',Y_pred.shape )\n",
    "                self.backwardpropagate(trainX_col ,trainY_label,Y_pred,learningRate,A1,A1_bias)\n",
    "                #print(self.W1)\n",
    "            losslist.append(np.mean(loss_nest))\n",
    "           # print(self.accuracy(validationX,validationY))\n",
    "        plt.plot(losslist)\n",
    "        plt.show()\n",
    "\n",
    "\n",
    "    def predict(self, testX):\n",
    "        # predict the value of testX\n",
    "        return self.feedforward(testX)\n",
    "    \n",
    "    def accuracy(self, testX, testY):\n",
    "        # predict the value of trainX\n",
    "        # compare it with testY\n",
    "        # compute accuracy, print it and show in the form of picture\n",
    "        Y_pred,A1,A1_bias = self.predict(testX)\n",
    "        \n",
    "        pred_y = Y_pred.reshape((Y_pred.shape[1]))\n",
    "        #print(pred_y)\n",
    "        pred_y[pred_y>=0.5]=1\n",
    "        pred_y[pred_y<0.5]=0\n",
    "        testY = testY.reshape((testY.shape[1]))\n",
    "        return accuracy_score(testY, pred_y)*100    \n",
    "        \n",
    "    def saveModel(self,name):\n",
    "        # save your trained model, it is your interpretation how, which and what data you store\n",
    "        # which you will use later for prediction\n",
    "        pickle.dump(self, open(name, 'wb'))\n",
    "\n",
    "        \n",
    "    def loadModel(self,name):\n",
    "         return pickle.load(open(name, 'rb'))\n",
    "        # load your trained model, load exactly how you stored it.\n",
    "\n",
    "    \n"
   ]
  },
  {
   "cell_type": "code",
   "execution_count": null,
   "metadata": {
    "collapsed": true,
    "scrolled": true
   },
   "outputs": [],
   "source": []
  },
  {
   "cell_type": "code",
   "execution_count": null,
   "metadata": {
    "collapsed": true
   },
   "outputs": [],
   "source": []
  },
  {
   "cell_type": "code",
   "execution_count": 3,
   "metadata": {},
   "outputs": [
    {
     "data": {
      "image/png": "[encoded data removed]",
      "text/plain": [
       "<matplotlib.figure.Figure at 0x47cb080>"
      ]
     },
     "metadata": {},
     "output_type": "display_data"
    }
   ],
   "source": [
    "data, label = ds.make_circles(n_samples=1000, factor=.4, noise=0.05,random_state=1)\n",
    "\n",
    "#Lets visualize the dataset\n",
    "reds = label == 0\n",
    "blues = label == 1\n",
    "plt.scatter(data[reds, 0], data[reds, 1], c=\"red\", s=20, edgecolor='k')\n",
    "plt.scatter(data[blues, 0], data[blues, 1], c=\"blue\", s=20, edgecolor='k')\n",
    "plt.show()\n"
   ]
  },
  {
   "cell_type": "code",
   "execution_count": 4,
   "metadata": {
    "collapsed": true
   },
   "outputs": [],
   "source": [
    "data_new=np.ones((3,1000))"
   ]
  },
  {
   "cell_type": "code",
   "execution_count": 5,
   "metadata": {
    "collapsed": true
   },
   "outputs": [],
   "source": [
    "#data=data.reshape((2,1000))\n",
    "label=label.reshape((1,1000))"
   ]
  },
  {
   "cell_type": "code",
   "execution_count": 6,
   "metadata": {
    "collapsed": true
   },
   "outputs": [],
   "source": [
    "data_new[1:,:]=data.T"
   ]
  },
  {
   "cell_type": "code",
   "execution_count": 7,
   "metadata": {
    "collapsed": true
   },
   "outputs": [],
   "source": [
    "data=data_new"
   ]
  },
  {
   "cell_type": "code",
   "execution_count": 8,
   "metadata": {},
   "outputs": [
    {
     "name": "stdout",
     "output_type": "stream",
     "text": [
      "[[ 1.        ]\n",
      " [ 0.46393874]\n",
      " [-0.02260865]]\n"
     ]
    }
   ],
   "source": [
    "print(data[:,:1])"
   ]
  },
  {
   "cell_type": "code",
   "execution_count": 9,
   "metadata": {},
   "outputs": [
    {
     "data": {
      "text/plain": [
       "array([[ 1.        ,  1.        ],\n",
       "       [ 0.46393874, -0.27151591],\n",
       "       [-0.02260865, -0.37722337]])"
      ]
     },
     "execution_count": 9,
     "metadata": {},
     "output_type": "execute_result"
    }
   ],
   "source": [
    "data[:,:2]"
   ]
  },
  {
   "cell_type": "code",
   "execution_count": 10,
   "metadata": {
    "collapsed": true
   },
   "outputs": [],
   "source": [
    "asd = Neural_Network(2,4,1,Activation_func='relu')"
   ]
  },
  {
   "cell_type": "code",
   "execution_count": 11,
   "metadata": {
    "collapsed": true
   },
   "outputs": [],
   "source": [
    "# asd.W1"
   ]
  },
  {
   "cell_type": "code",
   "execution_count": 12,
   "metadata": {
    "collapsed": true
   },
   "outputs": [],
   "source": [
    "\n",
    "#Note: shuffle this dataset before dividing it into three parts\n",
    "\n",
    "# Distribute this data into three parts i.e. training, validation and testing\n",
    "trainX=data[:,:round(data.shape[1]*0.7)]\n",
    "trainY=label[:,:round(label.shape[1]*0.7)]\n",
    "\n",
    "\n",
    "#validX = ? # validation data point\n",
    "#validY = ?# validation lables\n",
    "\n",
    "testX=data[:,round(data.shape[1]*0.7):]\n",
    "testY=label[:,round(label.shape[1]*0.7):]\n"
   ]
  },
  {
   "cell_type": "code",
   "execution_count": 403,
   "metadata": {},
   "outputs": [
    {
     "data": {
      "image/png": "[encoded data removed]",
      "text/plain": [
       "<matplotlib.figure.Figure at 0xab43908>"
      ]
     },
     "metadata": {},
     "output_type": "display_data"
    }
   ],
   "source": [
    "model = Neural_Network(2,4,1,Activation_func='relu')\n",
    "# try different combinations of epochs and learning rate\n",
    "model.train(trainX, trainY,validationX=testX,validationY=testY, epochs = 30, learningRate = 0.1 )"
   ]
  },
  {
   "cell_type": "code",
   "execution_count": 393,
   "metadata": {},
   "outputs": [
    {
     "data": {
      "text/plain": [
       "100.0"
      ]
     },
     "execution_count": 393,
     "metadata": {},
     "output_type": "execute_result"
    }
   ],
   "source": [
    "model.accuracy(testX,testY)"
   ]
  },
  {
   "cell_type": "code",
   "execution_count": 397,
   "metadata": {
    "collapsed": true
   },
   "outputs": [],
   "source": [
    "#save the best model which you have trained, \n",
    "model.saveModel('bestmodel.mdl')"
   ]
  },
  {
   "cell_type": "markdown",
   "metadata": {},
   "source": [
    "#### Note: This below section will be used for the evaluation of this task, we need your model and we will run script below to evaluated your model"
   ]
  },
  {
   "cell_type": "code",
   "execution_count": 399,
   "metadata": {},
   "outputs": [
    {
     "data": {
      "text/plain": [
       "100.0"
      ]
     },
     "execution_count": 399,
     "metadata": {},
     "output_type": "execute_result"
    }
   ],
   "source": [
    "# create class object\n",
    "mm = Neural_Network()\n",
    "# load model which will be provided by you\n",
    "mm.loadModel('bestmodel.mdl')\n",
    "# check accuracy of that model\n",
    "mm.accuracy(testX,testY)\n",
    "\n",
    "\n"
   ]
  },
  {
   "cell_type": "code",
   "execution_count": null,
   "metadata": {
    "collapsed": true
   },
   "outputs": [],
   "source": []
  }
 ],
 "metadata": {
  "kernelspec": {
   "display_name": "Python 3",
   "language": "python",
   "name": "python3"
  },
  "language_info": {
   "codemirror_mode": {
    "name": "ipython",
    "version": 3
   },
   "file_extension": ".py",
   "mimetype": "text/x-python",
   "name": "python",
   "nbconvert_exporter": "python",
   "pygments_lexer": "ipython3",
   "version": "3.6.8"
  }
 },
 "nbformat": 4,
 "nbformat_minor": 2
}
